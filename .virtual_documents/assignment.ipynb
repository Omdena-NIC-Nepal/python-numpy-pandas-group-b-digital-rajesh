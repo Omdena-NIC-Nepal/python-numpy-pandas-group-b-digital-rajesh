# NumPy and Pandas Assignment
# Complete the following tasks by filling in the code where indicated.
# Ensure your notebook is well-documented with markdown cells explaining your code and result.

import numpy as np
import pandas as pd








import numpy as np

arr = np.zeros(10)
arr[4] = 1

print(arr)









import numpy as np

matrix = np.arange(16).reshape(4, 4)

print(matrix)






import numpy as np

arr1 = np.array([[41, 30, 10], [6, 35, 23], [23, 9, 10]])
arr2 = np.array([[4, 29, 2], [5, 13, 3], [24, 16, 7]])

addition = arr1 + arr2
subtraction = arr1 - arr2
multiplication = arr1 * arr2
division = arr1 / arr2  
print("Element-wise Addition:\n", addition)
print("\nElement-wise Subtraction:\n", subtraction)
print("\nElement-wise Multiplication:\n", multiplication)
print("\nElement-wise Division:\n", division)






import numpy as np

arr = np.array([10, 20, 30, 40, 50, 60, 70, 80, 90, 100])

extracted_elements = arr[2:7]

print(extracted_elements)






import numpy as np

# Convert the given list to a 3x3 NumPy array
data = [[15, 18, 20],
        [15, 30, 8],
        [25, 30, 60]]
arr = np.array(data)

mean_val = arr.mean()
sum_val = arr.sum()
max_val = arr.max()

print("3x3 NumPy Array:")
print(arr)
print("\nMean:", mean_val)
print("Sum:", sum_val)
print("Maximum Value:", max_val)









import pandas as pd

series = pd.Series([10, 20, 30, 40, 50], index=['a', 'b', 'c', 'd', 'e'])

print(series)






import pandas as pd

df = pd.read_csv("data.csv")

print(df)







import pandas as pd

df = pd.read_csv("data.csv")

first_three_rows = df.head(3)

print(first_three_rows)






import pandas as pd

df = pd.read_csv("data.csv")

df["Tax"] = df["Salary"] * 0.1

print(df.head())






import pandas as pd

df = pd.read_csv("data.csv")

filtered_df = df[df["Age"] > 36]

print(filtered_df)









# Sample Data
sales_data = pd.DataFrame({
    "Region": ["North", "South", "North", "West", "South", "West"],
    "Sales": [1000, 1500, 1200, 1800, 1300, 1700]
})
sales_data.head()



data = {
    "Region": ["North", "South", "East", "West", "North", "South", "East", "West"],
    "Sales": [100, 150, 200, 250, 300, 350, 400, 450]
}

df = pd.DataFrame(data)

aggregated_sales = df.groupby("Region")["Sales"].agg(total="sum", mean="mean")

print(aggregated_sales)






customers = pd.DataFrame({
    "CustomerID": [1, 2, 3, 4],
    "CustomerName": ["Alice", "Bob", "Charlie", "David"]
})

orders = pd.DataFrame({
    "OrderID": [101, 102, 103, 104],
    "CustomerID": [1, 2, 2, 4],
    "Amount": [250, 400, 600, 150]
})

display(customers.head(2), orders.head(2))


import pandas as pd

customers = pd.DataFrame({
    "CustomerID": [1, 2, 3],
    "CustomerName": ["Alice", "Bob", "Charlie"],
    "Country": ["USA", "Canada", "UK"]
})

orders = pd.DataFrame({
    "OrderID": [101, 102, 103, 104],
    "CustomerID": [1, 2, 1, 3],
    "OrderAmount": [250, 300, 150, 450]
})

merged_data = pd.merge(customers, orders, on="CustomerID")

print(merged_data)






# NB: No test for this. Just an exercise for you to play around with
employees = pd.DataFrame({
    "EmpID": [101, 102, 103, 104],
    "EmpName": ["John", "Jane", "Alice", "Bob"],
    "DeptID": [1, 2, 2, 3]
})

departments = pd.DataFrame({
    "DeptID": [1, 2],
    "DeptName": ["HR", "Finance"]
})

display(employees.head(2), departments.head(2))


import pandas as pd

employees = pd.DataFrame({
    "EmpID": [101, 102, 103, 104],
    "EmpName": ["Alice", "Bob", "Charlie", "David"],
    "DeptID": [1, 2, 3, 2]
})

departments = pd.DataFrame({
    "DeptID": [1, 2, 4],
    "DeptName": ["HR", "Finance", "Marketing"]
})

result = pd.merge(employees, departments, on="DeptID", how="left")

print(result)






sales_pivot_data = pd.DataFrame({
    "Region": ["North", "North", "South", "South", "West", "West"],
    "Product": ["A", "B", "A", "B", "A", "B"],
    "Sales": [200, 300, 150, 400, 250, 500]
})

sales_pivot_data.head(2)


import pandas as pd

data = {
    "Region": ["North", "South", "East", "West", "North", "South", "East", "West"],
    "Product": ["A", "A", "B", "B", "A", "B", "A", "B"],
    "Sales": [100, 150, 200, 250, 300, 350, 400, 450]
}

df = pd.DataFrame(data)

pivot_table = df.pivot_table(values="Sales", index="Region", columns="Product", aggfunc="sum", fill_value=0)
print(pivot_table)





